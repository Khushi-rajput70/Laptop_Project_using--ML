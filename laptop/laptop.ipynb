{
 "cells": [
  {
   "cell_type": "code",
   "execution_count": 190,
   "id": "44418c03-0be6-4eb1-a1d0-e1bdadb3a59b",
   "metadata": {},
   "outputs": [],
   "source": [
    "# import libraries\n",
    "\n",
    "import numpy as np\n",
    "import pandas as pd\n",
    "import seaborn as sns\n",
    "import matplotlib.pyplot as plt\n",
    "import re\n",
    "from sklearn.model_selection import train_test_split\n",
    "from sklearn.impute import SimpleImputer\n",
    "from sklearn.ensemble import RandomForestRegressor\n",
    "from sklearn.metrics import mean_squared_error, r2_score"
   ]
  },
  {
   "cell_type": "code",
   "execution_count": 191,
   "id": "74c0a7d0-249a-4cae-984c-e01061960935",
   "metadata": {},
   "outputs": [],
   "source": [
    "# load dataset \n",
    "data= pd.read_csv(\"laptopData.csv\")"
   ]
  },
  {
   "cell_type": "code",
   "execution_count": 192,
   "id": "23dca61e-3161-4f7d-9a4f-89931ee4d0b8",
   "metadata": {},
   "outputs": [
    {
     "data": {
      "text/html": [
       "<div>\n",
       "<style scoped>\n",
       "    .dataframe tbody tr th:only-of-type {\n",
       "        vertical-align: middle;\n",
       "    }\n",
       "\n",
       "    .dataframe tbody tr th {\n",
       "        vertical-align: top;\n",
       "    }\n",
       "\n",
       "    .dataframe thead th {\n",
       "        text-align: right;\n",
       "    }\n",
       "</style>\n",
       "<table border=\"1\" class=\"dataframe\">\n",
       "  <thead>\n",
       "    <tr style=\"text-align: right;\">\n",
       "      <th></th>\n",
       "      <th>Company</th>\n",
       "      <th>TypeName</th>\n",
       "      <th>Inches</th>\n",
       "      <th>ScreenResolution</th>\n",
       "      <th>Cpu</th>\n",
       "      <th>Ram</th>\n",
       "      <th>Memory</th>\n",
       "      <th>Gpu</th>\n",
       "      <th>OpSys</th>\n",
       "      <th>Weight</th>\n",
       "      <th>Price</th>\n",
       "    </tr>\n",
       "  </thead>\n",
       "  <tbody>\n",
       "    <tr>\n",
       "      <th>0</th>\n",
       "      <td>Apple</td>\n",
       "      <td>Ultrabook</td>\n",
       "      <td>13.3</td>\n",
       "      <td>IPS Panel Retina Display 2560x1600</td>\n",
       "      <td>Intel Core i5 2.3GHz</td>\n",
       "      <td>8GB</td>\n",
       "      <td>128GB SSD</td>\n",
       "      <td>Intel Iris Plus Graphics 640</td>\n",
       "      <td>macOS</td>\n",
       "      <td>1.37kg</td>\n",
       "      <td>71378.6832</td>\n",
       "    </tr>\n",
       "    <tr>\n",
       "      <th>1</th>\n",
       "      <td>Apple</td>\n",
       "      <td>Ultrabook</td>\n",
       "      <td>13.3</td>\n",
       "      <td>1440x900</td>\n",
       "      <td>Intel Core i5 1.8GHz</td>\n",
       "      <td>8GB</td>\n",
       "      <td>128GB Flash Storage</td>\n",
       "      <td>Intel HD Graphics 6000</td>\n",
       "      <td>macOS</td>\n",
       "      <td>1.34kg</td>\n",
       "      <td>47895.5232</td>\n",
       "    </tr>\n",
       "    <tr>\n",
       "      <th>2</th>\n",
       "      <td>HP</td>\n",
       "      <td>Notebook</td>\n",
       "      <td>15.6</td>\n",
       "      <td>Full HD 1920x1080</td>\n",
       "      <td>Intel Core i5 7200U 2.5GHz</td>\n",
       "      <td>8GB</td>\n",
       "      <td>256GB SSD</td>\n",
       "      <td>Intel HD Graphics 620</td>\n",
       "      <td>No OS</td>\n",
       "      <td>1.86kg</td>\n",
       "      <td>30636.0000</td>\n",
       "    </tr>\n",
       "    <tr>\n",
       "      <th>3</th>\n",
       "      <td>Apple</td>\n",
       "      <td>Ultrabook</td>\n",
       "      <td>15.4</td>\n",
       "      <td>IPS Panel Retina Display 2880x1800</td>\n",
       "      <td>Intel Core i7 2.7GHz</td>\n",
       "      <td>16GB</td>\n",
       "      <td>512GB SSD</td>\n",
       "      <td>AMD Radeon Pro 455</td>\n",
       "      <td>macOS</td>\n",
       "      <td>1.83kg</td>\n",
       "      <td>135195.3360</td>\n",
       "    </tr>\n",
       "    <tr>\n",
       "      <th>4</th>\n",
       "      <td>Apple</td>\n",
       "      <td>Ultrabook</td>\n",
       "      <td>13.3</td>\n",
       "      <td>IPS Panel Retina Display 2560x1600</td>\n",
       "      <td>Intel Core i5 3.1GHz</td>\n",
       "      <td>8GB</td>\n",
       "      <td>256GB SSD</td>\n",
       "      <td>Intel Iris Plus Graphics 650</td>\n",
       "      <td>macOS</td>\n",
       "      <td>1.37kg</td>\n",
       "      <td>96095.8080</td>\n",
       "    </tr>\n",
       "  </tbody>\n",
       "</table>\n",
       "</div>"
      ],
      "text/plain": [
       "  Company   TypeName Inches                    ScreenResolution  \\\n",
       "0   Apple  Ultrabook   13.3  IPS Panel Retina Display 2560x1600   \n",
       "1   Apple  Ultrabook   13.3                            1440x900   \n",
       "2      HP   Notebook   15.6                   Full HD 1920x1080   \n",
       "3   Apple  Ultrabook   15.4  IPS Panel Retina Display 2880x1800   \n",
       "4   Apple  Ultrabook   13.3  IPS Panel Retina Display 2560x1600   \n",
       "\n",
       "                          Cpu   Ram               Memory  \\\n",
       "0        Intel Core i5 2.3GHz   8GB            128GB SSD   \n",
       "1        Intel Core i5 1.8GHz   8GB  128GB Flash Storage   \n",
       "2  Intel Core i5 7200U 2.5GHz   8GB            256GB SSD   \n",
       "3        Intel Core i7 2.7GHz  16GB            512GB SSD   \n",
       "4        Intel Core i5 3.1GHz   8GB            256GB SSD   \n",
       "\n",
       "                            Gpu  OpSys  Weight        Price  \n",
       "0  Intel Iris Plus Graphics 640  macOS  1.37kg   71378.6832  \n",
       "1        Intel HD Graphics 6000  macOS  1.34kg   47895.5232  \n",
       "2         Intel HD Graphics 620  No OS  1.86kg   30636.0000  \n",
       "3            AMD Radeon Pro 455  macOS  1.83kg  135195.3360  \n",
       "4  Intel Iris Plus Graphics 650  macOS  1.37kg   96095.8080  "
      ]
     },
     "execution_count": 192,
     "metadata": {},
     "output_type": "execute_result"
    }
   ],
   "source": [
    "# read dataset\n",
    "data.head()"
   ]
  },
  {
   "cell_type": "code",
   "execution_count": 193,
   "id": "98dbcb67-ff23-49ca-bf4e-d3471bb06a20",
   "metadata": {},
   "outputs": [
    {
     "name": "stdout",
     "output_type": "stream",
     "text": [
      "<class 'pandas.core.frame.DataFrame'>\n",
      "RangeIndex: 1303 entries, 0 to 1302\n",
      "Data columns (total 11 columns):\n",
      " #   Column            Non-Null Count  Dtype  \n",
      "---  ------            --------------  -----  \n",
      " 0   Company           1273 non-null   object \n",
      " 1   TypeName          1273 non-null   object \n",
      " 2   Inches            1273 non-null   object \n",
      " 3   ScreenResolution  1273 non-null   object \n",
      " 4   Cpu               1273 non-null   object \n",
      " 5   Ram               1273 non-null   object \n",
      " 6   Memory            1273 non-null   object \n",
      " 7   Gpu               1273 non-null   object \n",
      " 8   OpSys             1273 non-null   object \n",
      " 9   Weight            1273 non-null   object \n",
      " 10  Price             1273 non-null   float64\n",
      "dtypes: float64(1), object(10)\n",
      "memory usage: 112.1+ KB\n"
     ]
    }
   ],
   "source": [
    "data.info()"
   ]
  },
  {
   "cell_type": "code",
   "execution_count": 194,
   "id": "32a04a96-9cd5-4b3f-81d0-2d2e85bba1cd",
   "metadata": {},
   "outputs": [
    {
     "data": {
      "text/html": [
       "<div>\n",
       "<style scoped>\n",
       "    .dataframe tbody tr th:only-of-type {\n",
       "        vertical-align: middle;\n",
       "    }\n",
       "\n",
       "    .dataframe tbody tr th {\n",
       "        vertical-align: top;\n",
       "    }\n",
       "\n",
       "    .dataframe thead th {\n",
       "        text-align: right;\n",
       "    }\n",
       "</style>\n",
       "<table border=\"1\" class=\"dataframe\">\n",
       "  <thead>\n",
       "    <tr style=\"text-align: right;\">\n",
       "      <th></th>\n",
       "      <th>Price</th>\n",
       "    </tr>\n",
       "  </thead>\n",
       "  <tbody>\n",
       "    <tr>\n",
       "      <th>count</th>\n",
       "      <td>1273.000000</td>\n",
       "    </tr>\n",
       "    <tr>\n",
       "      <th>mean</th>\n",
       "      <td>59955.814073</td>\n",
       "    </tr>\n",
       "    <tr>\n",
       "      <th>std</th>\n",
       "      <td>37332.251005</td>\n",
       "    </tr>\n",
       "    <tr>\n",
       "      <th>min</th>\n",
       "      <td>9270.720000</td>\n",
       "    </tr>\n",
       "    <tr>\n",
       "      <th>25%</th>\n",
       "      <td>31914.720000</td>\n",
       "    </tr>\n",
       "    <tr>\n",
       "      <th>50%</th>\n",
       "      <td>52161.120000</td>\n",
       "    </tr>\n",
       "    <tr>\n",
       "      <th>75%</th>\n",
       "      <td>79333.387200</td>\n",
       "    </tr>\n",
       "    <tr>\n",
       "      <th>max</th>\n",
       "      <td>324954.720000</td>\n",
       "    </tr>\n",
       "  </tbody>\n",
       "</table>\n",
       "</div>"
      ],
      "text/plain": [
       "               Price\n",
       "count    1273.000000\n",
       "mean    59955.814073\n",
       "std     37332.251005\n",
       "min      9270.720000\n",
       "25%     31914.720000\n",
       "50%     52161.120000\n",
       "75%     79333.387200\n",
       "max    324954.720000"
      ]
     },
     "execution_count": 194,
     "metadata": {},
     "output_type": "execute_result"
    }
   ],
   "source": [
    "data.describe()"
   ]
  },
  {
   "cell_type": "code",
   "execution_count": 195,
   "id": "d611e98e-70d0-4457-8eea-94296bf9130b",
   "metadata": {},
   "outputs": [
    {
     "data": {
      "text/plain": [
       "Company             30\n",
       "TypeName            30\n",
       "Inches              30\n",
       "ScreenResolution    30\n",
       "Cpu                 30\n",
       "Ram                 30\n",
       "Memory              30\n",
       "Gpu                 30\n",
       "OpSys               30\n",
       "Weight              30\n",
       "Price               30\n",
       "dtype: int64"
      ]
     },
     "execution_count": 195,
     "metadata": {},
     "output_type": "execute_result"
    }
   ],
   "source": [
    "data.isnull().sum()"
   ]
  },
  {
   "cell_type": "code",
   "execution_count": 196,
   "id": "aa33ce57-8b0d-46ab-b318-f2fe7d846e08",
   "metadata": {},
   "outputs": [
    {
     "data": {
      "text/plain": [
       "['Company',\n",
       " 'TypeName',\n",
       " 'Inches',\n",
       " 'ScreenResolution',\n",
       " 'Cpu',\n",
       " 'Ram',\n",
       " 'Memory',\n",
       " 'Gpu',\n",
       " 'OpSys',\n",
       " 'Weight',\n",
       " 'Price']"
      ]
     },
     "execution_count": 196,
     "metadata": {},
     "output_type": "execute_result"
    }
   ],
   "source": [
    "data.columns.tolist()"
   ]
  },
  {
   "cell_type": "code",
   "execution_count": 197,
   "id": "5521f5ae-5d6a-412a-9342-48bbaa601a88",
   "metadata": {},
   "outputs": [],
   "source": [
    "#  Data cleaning and numeric conversions\n",
    "\n",
    "if 'Unnamed: 0' in df.columns:\n",
    "    data = data.drop(columns=['Unnamed: 0'])\n",
    "\n",
    "# to check is Price numeric\n",
    "data['Price'] = pd.to_numeric(data['Price'], errors='coerce')\n",
    "\n",
    "# RAM convert into numevric \n",
    "data['Ram_GB'] = pd.to_numeric(data['Ram'].astype(str).str.replace('GB','', regex=False), errors='coerce')\n",
    "\n",
    "# Weight convert into numeric \n",
    "data['Weight_kg'] = pd.to_numeric(data['Weight'].astype(str).str.replace('kg','', regex=False), errors='coerce')\n",
    "\n",
    "# Inches into numeric\n",
    "data['Inches'] = pd.to_numeric(data['Inches'], errors='coerce')\n",
    "\n",
    "# Memory: parse total GB (handles \"128GB SSD + 1TB HDD\")\n",
    "def parse_memory_total_gb(x):\n",
    "    if pd.isna(x): return np.nan\n",
    "    s = str(x)\n",
    "    parts = re.findall(r'(\\d+)\\s*(TB|GB)', s, flags=re.I)\n",
    "    total = 0.0\n",
    "    for num, unit in parts:\n",
    "        n = float(num)\n",
    "        if unit.lower().startswith('t'):\n",
    "            total += n * 1024.0\n",
    "        else:\n",
    "            total += n\n",
    "    return total if total>0 else np.nan\n",
    "\n",
    "data['Memory_GB'] = data['Memory'].apply(parse_memory_total_gb)\n",
    "\n",
    "# Small engineered categorical features\n",
    "data['CPU_Brand'] = data['Cpu'].astype(str).str.split().str[0].fillna('Unknown')\n",
    "data['GPU_Brand'] = data['Gpu'].astype(str).str.split().str[0].fillna('Unknown')\n"
   ]
  },
  {
   "cell_type": "code",
   "execution_count": 198,
   "id": "32cd4ed0-6c2f-442e-a5df-52a79af6ff04",
   "metadata": {},
   "outputs": [
    {
     "name": "stdout",
     "output_type": "stream",
     "text": [
      "After keeping Price rows: (1273, 16)\n"
     ]
    }
   ],
   "source": [
    "\n",
    "# Keep only rows that have Price (target must exist)\n",
    "\n",
    "\n",
    "data = data[data['Price'].notna()].copy()\n",
    "print(\"After keeping Price rows:\", data.shape)\n",
    "\n",
    "#  we will use Numeric columns \n",
    "num_cols = ['Ram_GB', 'Weight_kg', 'Inches', 'Memory_GB']\n",
    "\n",
    "# Impute numeric NaNs with median (safe)\n",
    "imputer = SimpleImputer(strategy='median')\n",
    "data[num_cols] = imputer.fit_transform(df[num_cols])\n",
    "\n",
    "# Fill categorical NaNs with 'Unknown'\n",
    "cat_cols = ['Company','TypeName','CPU_Brand','GPU_Brand','OpSys']\n",
    "for c in cat_cols:\n",
    "    if c in data.columns:\n",
    "        data[c] = data[c].fillna('Unknown')\n"
   ]
  },
  {
   "cell_type": "code",
   "execution_count": 199,
   "id": "2afe58c0-3672-4f80-9e88-7968e86452e5",
   "metadata": {},
   "outputs": [
    {
     "name": "stderr",
     "output_type": "stream",
     "text": [
      "C:\\Users\\kr304\\anaconda3\\Lib\\site-packages\\seaborn\\_oldcore.py:1119: FutureWarning: use_inf_as_na option is deprecated and will be removed in a future version. Convert inf values to NaN before operating instead.\n",
      "  with pd.option_context('mode.use_inf_as_na', True):\n"
     ]
    },
    {
     "data": {
      "image/png": "[encoded data removed]",
      "text/plain": [
       "<Figure size 900x400 with 1 Axes>"
      ]
     },
     "metadata": {},
     "output_type": "display_data"
    }
   ],
   "source": [
    "\n",
    "#  Laptop Prices Distribution\n",
    "\n",
    "plt.figure(figsize=(9,4))\n",
    "sns.histplot(df[\"Price\"], bins=30, color=\"b\")\n",
    "plt.title(\"Laptop Price Distribution\")\n",
    "plt.xlabel(\"Price\")\n",
    "plt.ylabel(\"Count\")\n",
    "plt.show()\n",
    "\n"
   ]
  },
  {
   "cell_type": "code",
   "execution_count": 200,
   "id": "6781ff82-fc95-4a51-8a00-f3c44e56f7e0",
   "metadata": {},
   "outputs": [
    {
     "data": {
      "image/png": "[encoded data removed]",
      "text/plain": [
       "<Figure size 1200x800 with 1 Axes>"
      ]
     },
     "metadata": {},
     "output_type": "display_data"
    }
   ],
   "source": [
    "#  Each Company price \n",
    "plt.figure(figsize=(12,8))\n",
    "sns.barplot(x=\"Company\", y=\"Price\", data=data, estimator=\"mean\", palette=\"coolwarm\")\n",
    "plt.title(\"Average Price by Company\")\n",
    "plt.xticks(rotation=40)\n",
    "plt.show()\n",
    "\n"
   ]
  },
  {
   "cell_type": "code",
   "execution_count": 201,
   "id": "7cef299e-14fb-4598-8c41-eb2d5ca8afae",
   "metadata": {},
   "outputs": [
    {
     "data": {
      "image/png": "[encoded data removed]",
      "text/plain": [
       "<Figure size 1000x700 with 1 Axes>"
      ]
     },
     "metadata": {},
     "output_type": "display_data"
    }
   ],
   "source": [
    "# . Average Price by Operating System\n",
    "plt.figure(figsize=(10,7))\n",
    "sns.barplot(x=\"OpSys\", y=\"Price\", data=data, estimator=\"mean\", palette=\"viridis\")\n",
    "plt.title(\"Average Price by Operating System\")\n",
    "plt.xticks(rotation=40)\n",
    "plt.show()"
   ]
  },
  {
   "cell_type": "code",
   "execution_count": 202,
   "id": "f751e361-36f9-4130-996e-a923134bdefd",
   "metadata": {},
   "outputs": [
    {
     "name": "stdout",
     "output_type": "stream",
     "text": [
      "Feature matrix shape: (1273, 40)\n"
     ]
    }
   ],
   "source": [
    "# features and target\n",
    "features = num_cols + ['Company','TypeName','CPU_Brand','GPU_Brand','OpSys']\n",
    "\n",
    "X = data[features].copy()\n",
    "y = data['Price'].copy()\n",
    "\n",
    "# Convert categorical → dummies (one-hot)\n",
    "X = pd.get_dummies(X, columns=['Company','TypeName','CPU_Brand','GPU_Brand','OpSys'], drop_first=True)\n",
    "\n",
    "print(\"Feature matrix shape:\", X.shape)"
   ]
  },
  {
   "cell_type": "code",
   "execution_count": 203,
   "id": "150b6a04-2a66-4ae7-8660-30a76a76f1ce",
   "metadata": {},
   "outputs": [
    {
     "name": "stdout",
     "output_type": "stream",
     "text": [
      "Train: (1018, 40) Test: (255, 40)\n"
     ]
    }
   ],
   "source": [
    "# Split data \n",
    "X_train, X_test, y_train, y_test = train_test_split(X, y, test_size=0.20, random_state=42)\n",
    "print(\"Train:\", X_train.shape, \"Test:\", X_test.shape)"
   ]
  },
  {
   "cell_type": "code",
   "execution_count": 204,
   "id": "7c73e5d2-055e-41d9-85ba-75ccd1770d61",
   "metadata": {},
   "outputs": [
    {
     "name": "stdout",
     "output_type": "stream",
     "text": [
      "Ram_GB                  0.568625\n",
      "Weight_kg               0.142381\n",
      "Memory_GB               0.051757\n",
      "TypeName_Notebook       0.049981\n",
      "Company_Razer           0.040964\n",
      "Inches                  0.028830\n",
      "TypeName_Workstation    0.024689\n",
      "OpSys_Windows 7         0.012317\n",
      "Company_Asus            0.009825\n",
      "Company_HP              0.009159\n",
      "dtype: float64\n"
     ]
    }
   ],
   "source": [
    " # Feature importance (top 10)\n",
    "importances = pd.Series(model.feature_importances_, index=X_train.columns)\n",
    "top10 = importances.sort_values(ascending=False).head(10)\n",
    "print(top10)"
   ]
  },
  {
   "cell_type": "code",
   "execution_count": 211,
   "id": "951ebcf9-232d-47b3-b294-fd1800d44b33",
   "metadata": {},
   "outputs": [
    {
     "name": "stdout",
     "output_type": "stream",
     "text": [
      "               Model          RMSE        R2\n",
      "2      Random Forest  19847.892655  0.728445\n",
      "1      Decision Tree  21016.513942  0.695526\n",
      "0  Linear Regression  22309.658993  0.656905\n"
     ]
    }
   ],
   "source": [
    "\n",
    "# Define models\n",
    "\n",
    "models = {\n",
    "    \"Linear Regression\": LinearRegression(),\n",
    "    \"Decision Tree\": DecisionTreeRegressor(random_state=42),\n",
    "    \"Random Forest\": RandomForestRegressor(n_estimators=200, random_state=42, n_jobs=-1)\n",
    "}\n",
    "\n",
    "results = []\n",
    "\n",
    "# Train & evaluate each model\n",
    "for name, model in models.items():\n",
    "    model.fit(X_train, y_train)\n",
    "    y_pred = model.predict(X_test)\n",
    "\n",
    "    rmse = np.sqrt(mean_squared_error(y_test, y_pred))\n",
    "    r2 = r2_score(y_test, y_pred)\n",
    "\n",
    "    results.append((name, rmse, r2))\n",
    "\n",
    "# Make a results table\n",
    "results_data = pd.DataFrame(results, columns=[\"Model\", \"RMSE\", \"R2\"])\n",
    "print(results_data.sort_values(by=\"R²\", ascending=False))\n"
   ]
  },
  {
   "cell_type": "code",
   "execution_count": 220,
   "id": "0514ee77-ea10-42bf-a787-2712815b8781",
   "metadata": {},
   "outputs": [],
   "source": [
    "# CONCLUSION-\n",
    "# THE BEST RESULT GIVEN BY RANDOM FOREST AS RMSE IS 19847 RUPEES LESS THEN OTHER MODEL\n",
    "# AND THE VARIANCE (R²) IS 72.8 OR 73%, HIGHER THEN DECISION TREE AND LINAER RIGRESSION \n",
    "# IT CAPTURE THE NON-LINEAR RELATIONSHIP BETWEEN FEATURES LIKE RAM, COMPANY, CPU, GPU,\n",
    "# AND SCREENSIZE, MAKING IT A RELIABLE MODEL FOR PRICE PREDICTION.\n"
   ]
  },
  {
   "cell_type": "code",
   "execution_count": null,
   "id": "94c59443-08b3-4665-b0a3-9d37bdfc8035",
   "metadata": {},
   "outputs": [],
   "source": [
    "# Features of Random Forest-\n",
    "# Ensemble Learning Method:-Combines multiple decision trees to improve overall performance.\n",
    "# Random Feature Selection:-At each node, a random subset of features is selected for splitting, introducing more diversity among trees.\n",
    "# Handles Classification & Regression:-Versatile for both types of problems.\n",
    "# Feature Importance Evaluation:-Offers metrics to measure how important each feature is to the model."
   ]
  },
  {
   "cell_type": "code",
   "execution_count": null,
   "id": "52d7f4c4-999f-4ba3-9731-6c32e459e164",
   "metadata": {},
   "outputs": [],
   "source": [
    "# Advantages of Random Forest-\n",
    "# High Accuracy:-Often performs better than a single decision tree by reducing variance.\n",
    "# Handles Missing Values:-Can maintain accuracy even with missing data.\n",
    "# Works Well with Large Datasets:-Can handle thousands of features and instances.\n",
    "# Reduces Noise Impact:-Less sensitive to outliers and noise in the data.   "
   ]
  },
  {
   "cell_type": "code",
   "execution_count": null,
   "id": "4d809d7c-5952-4150-95bf-09761a7ac199",
   "metadata": {},
   "outputs": [],
   "source": [
    "# Disadvantages of Random Forest-\n",
    "# Complexity:-Not as interpretable as a single decision tree.\n",
    "# Slower Prediction Time:-Especially with a large number of trees.\n",
    "# Memory Intensive:-Requires more memory and computational resources.\n",
    "# Bias in Imbalanced Data:-May be biased toward the majority class if not properly tuned."
   ]
  },
  {
   "cell_type": "code",
   "execution_count": null,
   "id": "ecff5b00-3d05-4d56-a664-96a93945c928",
   "metadata": {},
   "outputs": [],
   "source": [
    "# Workflow of Random Forest-\n",
    "    \n",
    "# Data Preparation-Collect and preprocess the dataset.\n",
    "# Handle missing values, encode categorical variables, etc.\n",
    "    \n",
    "# Bootstrapping-Create multiple subsets (with replacement) from the original dataset.\n",
    "\n",
    "# Training Decision Trees--For each subset:-Build a decision tree.\n",
    "# At each node, randomly select a subset of features to determine the best split.\n",
    "\n",
    "# Voting/Averaging-For classification: Aggregate predictions via majority voting.\n",
    "# For regression: Aggregate predictions via average of outputs.\n",
    "\n",
    "# Model Evaluation-Use metrics like accuracy, F1-score (classification) or RMSE, MAE (regression).\n",
    "# Optionally use Out-of-Bag error for evaluation.\n",
    "                               \n",
    "# Feature Importance (Optional)-Extract and visualize the importance of different features in the model.                              "
   ]
  }
 ],
 "metadata": {
  "kernelspec": {
   "display_name": "Python 3 (ipykernel)",
   "language": "python",
   "name": "python3"
  },
  "language_info": {
   "codemirror_mode": {
    "name": "ipython",
    "version": 3
   },
   "file_extension": ".py",
   "mimetype": "text/x-python",
   "name": "python",
   "nbconvert_exporter": "python",
   "pygments_lexer": "ipython3",
   "version": "3.11.7"
  }
 },
 "nbformat": 4,
 "nbformat_minor": 5
}
